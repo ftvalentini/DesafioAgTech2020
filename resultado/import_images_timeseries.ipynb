{
  "nbformat": 4,
  "nbformat_minor": 0,
  "metadata": {
    "colab": {
      "name": "import_images_timeseries.ipynb",
      "provenance": [],
      "collapsed_sections": [],
      "toc_visible": true
    },
    "kernelspec": {
      "name": "python3",
      "display_name": "Python 3"
    }
  },
  "cells": [
    {
      "cell_type": "code",
      "metadata": {
        "id": "mHkJZOzv1iqk"
      },
      "source": [
        "import pandas as pd\n",
        "import numpy as np\n",
        "import os\n",
        "\n",
        "from pathlib import Path\n",
        "from tqdm import tqdm\n",
        "import matplotlib.pyplot as plt\n",
        "import seaborn as sns\n",
        "\n",
        "import ee"
      ],
      "execution_count": null,
      "outputs": []
    },
    {
      "cell_type": "markdown",
      "metadata": {
        "id": "xqe8unW7-VNy"
      },
      "source": [
        "### Earth Engine"
      ]
    },
    {
      "cell_type": "markdown",
      "metadata": {
        "id": "0L7k657jJUZe"
      },
      "source": [
        "Earth Engine autenticate (usar _franvalent93@gmail.com_)"
      ]
    },
    {
      "cell_type": "code",
      "metadata": {
        "id": "Y3aKxgyjIysL",
        "colab": {
          "base_uri": "https://localhost:8080/"
        },
        "outputId": "1b0a8e52-42d7-438b-c48f-11d6da9ff581"
      },
      "source": [
        "ee.Authenticate()"
      ],
      "execution_count": null,
      "outputs": [
        {
          "output_type": "stream",
          "text": [
            "To authorize access needed by Earth Engine, open the following URL in a web browser and follow the instructions. If the web browser does not start automatically, please manually browse the URL below.\n",
            "\n",
            "    https://accounts.google.com/o/oauth2/auth?client_id=517222506229-vsmmajv00ul0bs7p89v5m89qs8eb9359.apps.googleusercontent.com&scope=https%3A%2F%2Fwww.googleapis.com%2Fauth%2Fearthengine+https%3A%2F%2Fwww.googleapis.com%2Fauth%2Fdevstorage.full_control&redirect_uri=urn%3Aietf%3Awg%3Aoauth%3A2.0%3Aoob&response_type=code&code_challenge=KC7OPNJwwjS0IIQ3Z_GtPoC-ZJ54vBs3Km6npdc9Xf0&code_challenge_method=S256\n",
            "\n",
            "The authorization workflow will generate a code, which you should paste in the box below. \n",
            "Enter verification code: 4/1AY0e-g4anI-7JRSrEiz5TnfIhV0k1ZHJNMe6udT_x_alosJMzfYilAVSL-A\n",
            "\n",
            "Successfully saved authorization token.\n"
          ],
          "name": "stdout"
        }
      ]
    },
    {
      "cell_type": "code",
      "metadata": {
        "id": "abq44FBBMQyL"
      },
      "source": [
        "ee.Initialize()"
      ],
      "execution_count": null,
      "outputs": []
    },
    {
      "cell_type": "markdown",
      "metadata": {
        "id": "hkNXoe06JXck"
      },
      "source": [
        "### Google Drive"
      ]
    },
    {
      "cell_type": "markdown",
      "metadata": {
        "id": "jiSFdKuoR2zK"
      },
      "source": [
        "GDrive authenticate (usar _ft.valentini@gmail.com_)"
      ]
    },
    {
      "cell_type": "code",
      "metadata": {
        "id": "yV0haPcVIykd",
        "colab": {
          "base_uri": "https://localhost:8080/"
        },
        "outputId": "f99f8f32-9dd7-410a-bcae-0ed9f3a9b7d6"
      },
      "source": [
        "from google.colab import drive\n",
        "drive.mount('/content/drive', force_remount=True)"
      ],
      "execution_count": null,
      "outputs": [
        {
          "output_type": "stream",
          "text": [
            "Mounted at /content/drive\n"
          ],
          "name": "stdout"
        }
      ]
    },
    {
      "cell_type": "markdown",
      "metadata": {
        "id": "PwBkStDQ9x98"
      },
      "source": [
        "### Datasets"
      ]
    },
    {
      "cell_type": "code",
      "metadata": {
        "id": "3EDI8RUY_IKl"
      },
      "source": [
        "URL_TRAIN = \\\n",
        "  'https://raw.githubusercontent.com/ftvalentini/DesafioAgTech2020/master/dataset/data_train.csv'\n",
        "URL_TEST = \\\n",
        "  'https://raw.githubusercontent.com/ftvalentini/DesafioAgTech2020/master/dataset/data_test.csv'"
      ],
      "execution_count": null,
      "outputs": []
    },
    {
      "cell_type": "code",
      "metadata": {
        "id": "CZ62H_qLk54J"
      },
      "source": [
        "dat_train = pd.read_csv(URL_TRAIN, error_bad_lines=False)\n",
        "dat_test = pd.read_csv(URL_TEST, error_bad_lines=False)"
      ],
      "execution_count": null,
      "outputs": []
    },
    {
      "cell_type": "code",
      "metadata": {
        "id": "y4ReKBMv_RU4",
        "colab": {
          "base_uri": "https://localhost:8080/",
          "height": 204
        },
        "outputId": "47494768-f912-4065-8922-eba77a3ed912"
      },
      "source": [
        "dat_train.head()"
      ],
      "execution_count": null,
      "outputs": [
        {
          "output_type": "execute_result",
          "data": {
            "text/html": [
              "<div>\n",
              "<style scoped>\n",
              "    .dataframe tbody tr th:only-of-type {\n",
              "        vertical-align: middle;\n",
              "    }\n",
              "\n",
              "    .dataframe tbody tr th {\n",
              "        vertical-align: top;\n",
              "    }\n",
              "\n",
              "    .dataframe thead th {\n",
              "        text-align: right;\n",
              "    }\n",
              "</style>\n",
              "<table border=\"1\" class=\"dataframe\">\n",
              "  <thead>\n",
              "    <tr style=\"text-align: right;\">\n",
              "      <th></th>\n",
              "      <th>Id</th>\n",
              "      <th>Cultivo</th>\n",
              "      <th>Longitud</th>\n",
              "      <th>Latitud</th>\n",
              "      <th>Elevacion</th>\n",
              "      <th>Dataset</th>\n",
              "      <th>Campania</th>\n",
              "      <th>GlobalId</th>\n",
              "    </tr>\n",
              "  </thead>\n",
              "  <tbody>\n",
              "    <tr>\n",
              "      <th>0</th>\n",
              "      <td>1</td>\n",
              "      <td>S</td>\n",
              "      <td>-62.144163</td>\n",
              "      <td>-33.800202</td>\n",
              "      <td>104.111862</td>\n",
              "      <td>BC</td>\n",
              "      <td>18/19</td>\n",
              "      <td>1</td>\n",
              "    </tr>\n",
              "    <tr>\n",
              "      <th>1</th>\n",
              "      <td>4</td>\n",
              "      <td>M</td>\n",
              "      <td>-62.155418</td>\n",
              "      <td>-33.801742</td>\n",
              "      <td>105.698082</td>\n",
              "      <td>BC</td>\n",
              "      <td>18/19</td>\n",
              "      <td>4</td>\n",
              "    </tr>\n",
              "    <tr>\n",
              "      <th>2</th>\n",
              "      <td>6</td>\n",
              "      <td>N</td>\n",
              "      <td>-62.163615</td>\n",
              "      <td>-33.808092</td>\n",
              "      <td>104.233162</td>\n",
              "      <td>BC</td>\n",
              "      <td>18/19</td>\n",
              "      <td>6</td>\n",
              "    </tr>\n",
              "    <tr>\n",
              "      <th>3</th>\n",
              "      <td>7</td>\n",
              "      <td>M</td>\n",
              "      <td>-62.164773</td>\n",
              "      <td>-33.813671</td>\n",
              "      <td>103.859932</td>\n",
              "      <td>BC</td>\n",
              "      <td>18/19</td>\n",
              "      <td>7</td>\n",
              "    </tr>\n",
              "    <tr>\n",
              "      <th>4</th>\n",
              "      <td>9</td>\n",
              "      <td>M</td>\n",
              "      <td>-62.097200</td>\n",
              "      <td>-33.778628</td>\n",
              "      <td>98.532104</td>\n",
              "      <td>BC</td>\n",
              "      <td>18/19</td>\n",
              "      <td>9</td>\n",
              "    </tr>\n",
              "  </tbody>\n",
              "</table>\n",
              "</div>"
            ],
            "text/plain": [
              "   Id Cultivo   Longitud    Latitud   Elevacion Dataset Campania  GlobalId\n",
              "0   1       S -62.144163 -33.800202  104.111862      BC    18/19         1\n",
              "1   4       M -62.155418 -33.801742  105.698082      BC    18/19         4\n",
              "2   6       N -62.163615 -33.808092  104.233162      BC    18/19         6\n",
              "3   7       M -62.164773 -33.813671  103.859932      BC    18/19         7\n",
              "4   9       M -62.097200 -33.778628   98.532104      BC    18/19         9"
            ]
          },
          "metadata": {
            "tags": []
          },
          "execution_count": 77
        }
      ]
    },
    {
      "cell_type": "code",
      "metadata": {
        "id": "84xtvGyp_VTw",
        "colab": {
          "base_uri": "https://localhost:8080/"
        },
        "outputId": "2b5e52fc-13f5-4c02-fdac-3a35d7c70948"
      },
      "source": [
        "dat_train.Campania.value_counts()"
      ],
      "execution_count": null,
      "outputs": [
        {
          "output_type": "execute_result",
          "data": {
            "text/plain": [
              "19/20    556\n",
              "18/19    294\n",
              "Name: Campania, dtype: int64"
            ]
          },
          "metadata": {
            "tags": []
          },
          "execution_count": 78
        }
      ]
    },
    {
      "cell_type": "code",
      "metadata": {
        "id": "JXv9tvIR2ZcC",
        "colab": {
          "base_uri": "https://localhost:8080/"
        },
        "outputId": "0ab091c5-7f6d-43a7-921a-2470a1706791"
      },
      "source": [
        "dat_train.Cultivo.value_counts(dropna=False)"
      ],
      "execution_count": null,
      "outputs": [
        {
          "output_type": "execute_result",
          "data": {
            "text/plain": [
              "S      344\n",
              "M      210\n",
              "s       89\n",
              "N       82\n",
              "P       55\n",
              "X       34\n",
              "U       12\n",
              "B        6\n",
              "R        6\n",
              "m        4\n",
              "aa       2\n",
              "A        2\n",
              "T        2\n",
              "G        1\n",
              "S/M      1\n",
              "Name: Cultivo, dtype: int64"
            ]
          },
          "metadata": {
            "tags": []
          },
          "execution_count": 79
        }
      ]
    },
    {
      "cell_type": "code",
      "metadata": {
        "id": "U5AkNwV367vv"
      },
      "source": [
        "# Labels que descartamos\n",
        "BANNED = ['S/M']\n",
        "dat_train = dat_train.query(\"Cultivo not in @BANNED\")"
      ],
      "execution_count": null,
      "outputs": []
    },
    {
      "cell_type": "markdown",
      "metadata": {
        "id": "CemUTQkc2ylN"
      },
      "source": [
        "## Funciones"
      ]
    },
    {
      "cell_type": "code",
      "metadata": {
        "id": "-jVXKS3r2zOz"
      },
      "source": [
        "def create_reduce_region_function(\n",
        "  geometry, reducer=ee.Reducer.mean(), scale=10, crs=None):\n",
        "  \"\"\"\n",
        "  Creates a region reduction function intended to be used as the input function\n",
        "  to ee.ImageCollection.map() for reducing pixels intersecting a provided region\n",
        "  to a statistic for each image in a collection. See ee.Image.reduceRegion()\n",
        "  documentation for more details.\n",
        "  \"\"\"\n",
        "  def reduce_region_function(img):\n",
        "    stat = img.reduceRegion(\n",
        "        reducer=reducer, geometry=geometry, scale=scale, crs=crs, \n",
        "        bestEffort=True)\n",
        "    return ee.Feature(geometry, stat).set(\n",
        "        {'millis': img.date().millis()\n",
        "        ,'cloudy_perc': img.get(\"CLOUDY_PIXEL_PERCENTAGE\")\n",
        "        ,'vegetation_perc': img.get(\"VEGETATION_PERCENTAGE\")\n",
        "        })\n",
        "  return reduce_region_function\n",
        "\n",
        "\n",
        "def fc_to_df(fc):\n",
        "  \"\"\"\n",
        "  Transfer feature collection properties to a DataFrame\n",
        "  \"\"\"\n",
        "  data = fc.getInfo()\n",
        "  features = data['features']\n",
        "  dict_list = [f['properties'] for f in features]\n",
        "  df = pd.DataFrame(dict_list)\n",
        "  df = add_date_info(df)\n",
        "  return df\n",
        "\n",
        "\n",
        "def add_date_info(df):\n",
        "  \"\"\"\n",
        "  Add date variables to DataFrame with millis\n",
        "  \"\"\"\n",
        "  df['Timestamp'] = pd.to_datetime(df['millis'], unit='ms')\n",
        "  df['Year'] = pd.DatetimeIndex(df['Timestamp']).year\n",
        "  df['Month'] = pd.DatetimeIndex(df['Timestamp']).month\n",
        "  df['Day'] = pd.DatetimeIndex(df['Timestamp']).day\n",
        "  df['DOY'] = pd.DatetimeIndex(df['Timestamp']).dayofyear\n",
        "  return df\n",
        "\n",
        "\n",
        "def get_stats_df(\n",
        "    collection, long, lat, fecha_start, fecha_end, dim_buffer=60\n",
        "    ,reducer=ee.Reducer.mean(), scale=10, crs=None):\n",
        "  \"\"\"\n",
        "  Produce DataFrame de stats para el buffer de un punto en un periodo\n",
        "  ¿¿QUE CRS USAR?? EL DEFAULT????\n",
        "    me cruce estos por ahora: 'EPSG:4326','EPSG:32720','EPSG:3310'\n",
        "  \"\"\"\n",
        "  image_collection = collection.filterDate(fecha_start, fecha_end)\n",
        "  buffer = ee.Geometry.Point([long, lat]).buffer(dim_buffer)\n",
        "  reduce_image = create_reduce_region_function(\n",
        "    geometry=buffer, reducer=reducer, scale=scale, crs=crs)\n",
        "  image_fc = ee.FeatureCollection(image_collection.map(reduce_image))\n",
        "  image_df = fc_to_df(image_fc)\n",
        "  return image_df\n",
        "\n",
        "\n",
        "def clean_df(df, max_cloud_perc=25):\n",
        "  \"\"\"\n",
        "  Limpia el DataFrame de un buffer (saca NaN, filtra por cloud)\n",
        "  \"\"\"\n",
        "  df = df.dropna()\n",
        "  df = df.query(f\"cloudy_perc < {max_cloud_perc}\")\n",
        "  return df\n",
        "\n",
        "\n",
        "def plot_bandas(\n",
        "    df, bandas, size=(4,4), black_background=False, y_max=None, heatmap=False):\n",
        "  \"\"\"\n",
        "  Plot bandas over time de data de un df con stats \n",
        "  Param:\n",
        "    - heatmap: plot heatmap of time series\n",
        "  La paleta salio de:\n",
        "    R> library(RColorBrewer)\n",
        "    R> cat(brewer.pal(n=11,\"Set3\"), sep=\"','\")\n",
        "  \"\"\"\n",
        "  COLORES = \\\n",
        "    ['#8DD3C7','#FFFFB3','#BEBADA','#FB8072','#80B1D3','#FDB462','#B3DE69','#FCCDE5','#D9D9D9','#BC80BD','#CCEBC5']\n",
        "    #['#E41A1C','#377EB8','#4DAF4A','#984EA3','#FF7F00','#FFFF33','#A65628','#F781BF','#999999']\n",
        "  if black_background:\n",
        "    plt.style.use('dark_background')\n",
        "  else:\n",
        "    plt.style.use('ggplot')\n",
        "  fig, ax = plt.subplots(figsize=size)\n",
        "  if heatmap:\n",
        "    df = df[BANDAS].transpose()\n",
        "    sns.heatmap(df, cbar=False, vmin=-50, vmax=y_max) # cmap='viridis'\n",
        "  else:\n",
        "    for i,b in enumerate(bandas):\n",
        "      sns.lineplot(data=df, x=\"Timestamp\", y=b, color=COLORES[i], linewidth=3)\n",
        "      # sns.lineplot(data=df, x=\"Timestamp\", y=b, color=COLORES[i], linewidth=1)\n",
        "      plt.ylim(-50, y_max)\n",
        "  plt.axis('off')\n",
        "  return fig, ax"
      ],
      "execution_count": null,
      "outputs": []
    },
    {
      "cell_type": "markdown",
      "metadata": {
        "id": "ULzwBKNbMM9k"
      },
      "source": [
        "## Satellite collection"
      ]
    },
    {
      "cell_type": "markdown",
      "metadata": {
        "id": "SRc3vSBbEkMw"
      },
      "source": [
        "Tiles de https://www.youtube.com/watch?v=ybEvraFKR5Y&ab_channel=MatbaRofexSchool (01:31:45)"
      ]
    },
    {
      "cell_type": "code",
      "metadata": {
        "id": "qJxcAKjuEcZI"
      },
      "source": [
        "TILES = ['20HPJ','20HNH','20HPH']\n",
        "BANDAS = [\"B1\",\"B2\",\"B3\",\"B4\",\"B5\",\"B6\",\"B7\",\"B8\",\"B9\",\"B11\",\"B12\"]"
      ],
      "execution_count": null,
      "outputs": []
    },
    {
      "cell_type": "code",
      "metadata": {
        "id": "XAWa7Jiu_e4X"
      },
      "source": [
        "s2_collection = \\\n",
        "  ee.ImageCollection(\"COPERNICUS/S2_SR\").\\\n",
        "  filter(ee.Filter.inList('MGRS_TILE', TILES)).\\\n",
        "  select(BANDAS).\\\n",
        "  filterDate('2018-01-01', '2020-08-01')"
      ],
      "execution_count": null,
      "outputs": []
    },
    {
      "cell_type": "code",
      "metadata": {
        "id": "OrSsm_EhOsj5",
        "colab": {
          "base_uri": "https://localhost:8080/"
        },
        "outputId": "5899534e-a6e7-4baa-aade-7d618d3bf7b7"
      },
      "source": [
        "crs_id = ee.FeatureCollection(s2_collection).getInfo()['features'][0]['bands'][0]['crs']\n",
        "print(f\"el CRS de la 1a banda del primer lote es \\n{crs_id}\")"
      ],
      "execution_count": null,
      "outputs": [
        {
          "output_type": "stream",
          "text": [
            "el CRS de la 1a banda del primer lote es \n",
            "EPSG:32720\n"
          ],
          "name": "stdout"
        }
      ]
    },
    {
      "cell_type": "markdown",
      "metadata": {
        "id": "jU7WnHxDdEtF"
      },
      "source": [
        "## Get data"
      ]
    },
    {
      "cell_type": "markdown",
      "metadata": {
        "id": "e96S2T1-qBUb"
      },
      "source": [
        "### Parameters"
      ]
    },
    {
      "cell_type": "code",
      "metadata": {
        "id": "kesdpNa_eKaw"
      },
      "source": [
        "EXPERIMENT_ID = \"heatmap_ts\"\n",
        "\n",
        "OUTDIR_TRAIN = \\\n",
        "  f\"drive/My Drive/MACHINLEARNING/DesafioAgTech2020/data/train_{EXPERIMENT_ID}\"\n",
        "OUTDIR_TEST = \\\n",
        "  f\"drive/My Drive/MACHINLEARNING/DesafioAgTech2020/data/test_{EXPERIMENT_ID}\" # ts: time series\n",
        "\n",
        "BANDAS = [\"B1\",\"B2\",\"B3\",\"B4\",\"B5\",\"B6\",\"B7\",\"B8\", \"B9\", \"B11\",\"B12\"] # ejemplo3 alfredo (B,G,R,NIR,SWIR1,SWIR2)\n",
        "# BANDAS = [\"B3\",\"B5\",\"B9\",\"B11\",\"B12\"] \n",
        "DIM_BUFFER = 60 # m2 alrededor del punto\n",
        "REDUCER = ee.Reducer.mean()\n",
        "SCALE = 20 #(?)\n",
        "CRS = None # None es probablemente lo mismo que crs_id \n",
        "FIGSIZE = (4,4)\n",
        "BLACK_BACKGROUND = True\n",
        "MIN_VEGETATION_TRAIN = 30 # borra casos if menor a esto en (S,M,s,m)\n",
        "HEATMAP = True # plot ts as heatmap\n",
        "\n",
        "# las fechas se fijan en los loops"
      ],
      "execution_count": null,
      "outputs": []
    },
    {
      "cell_type": "markdown",
      "metadata": {
        "id": "3IRc_tYzeqPV"
      },
      "source": [
        "### Train data"
      ]
    },
    {
      "cell_type": "code",
      "metadata": {
        "id": "xJm3vavgeu-d"
      },
      "source": [
        "puntos_train = \\\n",
        "  dat_train[['Longitud','Latitud','Campania','GlobalId','Cultivo']].to_dict('records')"
      ],
      "execution_count": null,
      "outputs": []
    },
    {
      "cell_type": "markdown",
      "metadata": {
        "id": "pHLEhVIWe36G"
      },
      "source": [
        "**RUN**"
      ]
    },
    {
      "cell_type": "markdown",
      "metadata": {
        "id": "wYwUNGMGqjTQ"
      },
      "source": [
        "Get DataFrames"
      ]
    },
    {
      "cell_type": "code",
      "metadata": {
        "id": "1r3otX0yrLqT"
      },
      "source": [
        "df_list = []"
      ],
      "execution_count": null,
      "outputs": []
    },
    {
      "cell_type": "code",
      "metadata": {
        "colab": {
          "base_uri": "https://localhost:8080/"
        },
        "id": "WeSA1nJZe21A",
        "outputId": "b60fe80b-f735-4c53-941f-3ab7a38cad99"
      },
      "source": [
        "for p in tqdm(puntos_train):\n",
        "\n",
        "  # fechas\n",
        "  anio = int('20' + p['Campania'][-2:])\n",
        "  fecha_start = str(anio-1)+'-10-01' # anio anterior\n",
        "  fecha_end = str(anio)+'-07-31' # anio corriente\n",
        "\n",
        "  # make stats DFrame\n",
        "  df_ = get_stats_df(\n",
        "    s2_collection, p['Longitud'], p['Latitud'], fecha_start, fecha_end\n",
        "    ,dim_buffer=DIM_BUFFER, reducer=REDUCER, scale=SCALE, crs=CRS)\n",
        "  \n",
        "  # clean DFrame\n",
        "  df_clean_ = clean_df(df_)\n",
        "  df_clean_['id'] = p['GlobalId']\n",
        "\n",
        "  # bind to full DFrame\n",
        "  df_list.append(df_clean_)\n"
      ],
      "execution_count": null,
      "outputs": [
        {
          "output_type": "stream",
          "text": [
            "100%|██████████| 849/849 [35:20<00:00,  2.50s/it]\n"
          ],
          "name": "stderr"
        }
      ]
    },
    {
      "cell_type": "code",
      "metadata": {
        "id": "Xyfj6JSurg3o"
      },
      "source": [
        "df_train = pd.concat(df_list).reset_index(drop=True)"
      ],
      "execution_count": null,
      "outputs": []
    },
    {
      "cell_type": "code",
      "metadata": {
        "id": "8caS5KuZSu0u"
      },
      "source": [
        "# save\n",
        "df_train.to_csv(\n",
        "    f\"drive/My Drive/MACHINLEARNING/DesafioAgTech2020/data/df_train_{EXPERIMENT_ID}.csv\"\n",
        "    ,index=False)"
      ],
      "execution_count": null,
      "outputs": []
    },
    {
      "cell_type": "code",
      "metadata": {
        "colab": {
          "base_uri": "https://localhost:8080/",
          "height": 117
        },
        "id": "j5llYEWPf8iZ",
        "outputId": "470e1d87-c65d-4545-b62e-51fedf11bd65"
      },
      "source": [
        "df_train.sample(1)"
      ],
      "execution_count": null,
      "outputs": [
        {
          "output_type": "execute_result",
          "data": {
            "text/html": [
              "<div>\n",
              "<style scoped>\n",
              "    .dataframe tbody tr th:only-of-type {\n",
              "        vertical-align: middle;\n",
              "    }\n",
              "\n",
              "    .dataframe tbody tr th {\n",
              "        vertical-align: top;\n",
              "    }\n",
              "\n",
              "    .dataframe thead th {\n",
              "        text-align: right;\n",
              "    }\n",
              "</style>\n",
              "<table border=\"1\" class=\"dataframe\">\n",
              "  <thead>\n",
              "    <tr style=\"text-align: right;\">\n",
              "      <th></th>\n",
              "      <th>B1</th>\n",
              "      <th>B11</th>\n",
              "      <th>B12</th>\n",
              "      <th>B2</th>\n",
              "      <th>B3</th>\n",
              "      <th>B4</th>\n",
              "      <th>B5</th>\n",
              "      <th>B6</th>\n",
              "      <th>B7</th>\n",
              "      <th>B8</th>\n",
              "      <th>B9</th>\n",
              "      <th>cloudy_perc</th>\n",
              "      <th>millis</th>\n",
              "      <th>vegetation_perc</th>\n",
              "      <th>Timestamp</th>\n",
              "      <th>Year</th>\n",
              "      <th>Month</th>\n",
              "      <th>Day</th>\n",
              "      <th>DOY</th>\n",
              "      <th>id</th>\n",
              "    </tr>\n",
              "  </thead>\n",
              "  <tbody>\n",
              "    <tr>\n",
              "      <th>20164</th>\n",
              "      <td>1232.134291</td>\n",
              "      <td>3691.289977</td>\n",
              "      <td>2519.525901</td>\n",
              "      <td>1416.336852</td>\n",
              "      <td>1709.039414</td>\n",
              "      <td>2234.769426</td>\n",
              "      <td>2592.984797</td>\n",
              "      <td>2681.473395</td>\n",
              "      <td>2865.590231</td>\n",
              "      <td>3017.236205</td>\n",
              "      <td>3245.075873</td>\n",
              "      <td>18.094363</td>\n",
              "      <td>1587478326122</td>\n",
              "      <td>14.201774</td>\n",
              "      <td>2020-04-21 14:12:06.122</td>\n",
              "      <td>2020</td>\n",
              "      <td>4</td>\n",
              "      <td>21</td>\n",
              "      <td>112</td>\n",
              "      <td>1032</td>\n",
              "    </tr>\n",
              "  </tbody>\n",
              "</table>\n",
              "</div>"
            ],
            "text/plain": [
              "                B1          B11          B12  ...  Day  DOY    id\n",
              "20164  1232.134291  3691.289977  2519.525901  ...   21  112  1032\n",
              "\n",
              "[1 rows x 20 columns]"
            ]
          },
          "metadata": {
            "tags": []
          },
          "execution_count": 102
        }
      ]
    },
    {
      "cell_type": "markdown",
      "metadata": {
        "id": "4PBKOHQYvRAl"
      },
      "source": [
        "Max value de las bandas para definir limite vertical en los plots"
      ]
    },
    {
      "cell_type": "code",
      "metadata": {
        "id": "-MHE225KrlnA",
        "colab": {
          "base_uri": "https://localhost:8080/"
        },
        "outputId": "8bca2c78-fdff-4db9-c6c5-bb0815d8e6b1"
      },
      "source": [
        "max_value = df_train[BANDAS].max().max()\r\n",
        "print(max_value)"
      ],
      "execution_count": null,
      "outputs": [
        {
          "output_type": "stream",
          "text": [
            "18954.43142214727\n"
          ],
          "name": "stdout"
        }
      ]
    },
    {
      "cell_type": "markdown",
      "metadata": {
        "id": "MmpMQlzjreax"
      },
      "source": [
        "#### Make/Save plots"
      ]
    },
    {
      "cell_type": "code",
      "metadata": {
        "colab": {
          "base_uri": "https://localhost:8080/"
        },
        "id": "HKHK6e6TqmQg",
        "outputId": "2227b0f3-99fb-4ebb-ab49-0f870e6d7a78"
      },
      "source": [
        "k = 0\n",
        "for p in tqdm(puntos_train):\n",
        "\n",
        "  # output file\n",
        "  out_folder = Path(OUTDIR_TRAIN) / p['Cultivo']\n",
        "  os.makedirs(out_folder, exist_ok=True)\n",
        "  out_file = (out_folder / str(p['GlobalId'])).with_suffix(\".png\")\n",
        "  \n",
        "  # get DFrame\n",
        "  df_clean_ = df_train.loc[df_train['id'] == p['GlobalId']] \n",
        "  \n",
        "  # pass if low vegetation %\n",
        "  veg_perc = df_clean_['vegetation_perc'].median()\n",
        "  if p['Cultivo'] in ('S','M','s') and veg_perc < MIN_VEGETATION_TRAIN:\n",
        "    pass\n",
        "\n",
        "  # plot\n",
        "  fig, ax = plot_bandas(\n",
        "      df_clean_, BANDAS, size=FIGSIZE, black_background=BLACK_BACKGROUND\n",
        "      ,y_max=max_value, heatmap=HEATMAP)\n",
        "\n",
        "  # save plot\n",
        "  fig.savefig(out_file, bbox_inches='tight', pad_inches=0)\n",
        "  plt.close(fig) # not show fig\n",
        "  k += 1\n",
        "\n",
        "print(f\"{k} images saved out of {len(puntos_train)}\")"
      ],
      "execution_count": null,
      "outputs": [
        {
          "output_type": "stream",
          "text": [
            "100%|██████████| 849/849 [02:23<00:00,  5.91it/s]"
          ],
          "name": "stderr"
        },
        {
          "output_type": "stream",
          "text": [
            "849 images saved out of 849\n"
          ],
          "name": "stdout"
        },
        {
          "output_type": "stream",
          "text": [
            "\n"
          ],
          "name": "stderr"
        }
      ]
    },
    {
      "cell_type": "markdown",
      "metadata": {
        "id": "l_STkP_fohJE"
      },
      "source": [
        "### Test data"
      ]
    },
    {
      "cell_type": "code",
      "metadata": {
        "id": "x0MltaUzogEQ"
      },
      "source": [
        "puntos_test = \\\n",
        "  dat_test[['Longitud','Latitud','Campania','GlobalId']].to_dict('records')"
      ],
      "execution_count": null,
      "outputs": []
    },
    {
      "cell_type": "markdown",
      "metadata": {
        "id": "Aj_wMI9ieE1v"
      },
      "source": [
        "**RUN**"
      ]
    },
    {
      "cell_type": "code",
      "metadata": {
        "colab": {
          "base_uri": "https://localhost:8080/"
        },
        "id": "dqPzsoCleE1u",
        "outputId": "1a5013b2-07dd-44b2-b37d-ffc8ce8bc52f"
      },
      "source": [
        "for p in tqdm(puntos_test):\n",
        "\n",
        "  # output file\n",
        "  out_folder = Path(OUTDIR_TEST)\n",
        "  os.makedirs(out_folder, exist_ok=True)\n",
        "  out_file = (out_folder / str(p['GlobalId'])).with_suffix(\".png\")\n",
        "  \n",
        "  # fechas\n",
        "  anio = int('20' + p['Campania'][-2:])\n",
        "  fecha_start = str(anio-1)+'-10-01' # anio anterior\n",
        "  fecha_end = str(anio)+'-07-31' # anio corriente\n",
        "\n",
        "  # make stats DFrame\n",
        "  df_ = get_stats_df(\n",
        "    s2_collection, p['Longitud'], p['Latitud'], fecha_start, fecha_end\n",
        "    ,dim_buffer=DIM_BUFFER, reducer=REDUCER, scale=SCALE, crs=CRS)\n",
        "  \n",
        "  # clean DFrame\n",
        "  df_clean_ = clean_df(df_)\n",
        "\n",
        "  # plot\n",
        "  fig, ax = plot_bandas(\n",
        "      df_clean_, BANDAS, size=FIGSIZE, black_background=BLACK_BACKGROUND\n",
        "      ,y_max=max_value, heatmap=HEATMAP)\n",
        "\n",
        "  # save plot\n",
        "  fig.savefig(out_file, bbox_inches='tight', pad_inches=0)\n",
        "  plt.close(fig) # not show fig"
      ],
      "execution_count": null,
      "outputs": [
        {
          "output_type": "stream",
          "text": [
            "100%|██████████| 555/555 [26:06<00:00,  2.82s/it]\n"
          ],
          "name": "stderr"
        }
      ]
    },
    {
      "cell_type": "markdown",
      "metadata": {
        "id": "SE9jtb_w6pzo"
      },
      "source": [
        "## Ejemplos individuales"
      ]
    },
    {
      "cell_type": "code",
      "metadata": {
        "colab": {
          "base_uri": "https://localhost:8080/"
        },
        "id": "w95j8Ae8qn5e",
        "outputId": "ff442781-f84d-4f09-8d2a-e5d4df6a5ed1"
      },
      "source": [
        "#dd = pd.read_csv(\r\n",
        "#    f\"drive/My Drive/MACHINLEARNING/DesafioAgTech2020/data/df_train_ts_fullbandas_conX.csv\")\r\n",
        "#dd[BANDAS].max().max()"
      ],
      "execution_count": null,
      "outputs": [
        {
          "output_type": "execute_result",
          "data": {
            "text/plain": [
              "18954.431422147267"
            ]
          },
          "metadata": {
            "tags": []
          },
          "execution_count": 52
        }
      ]
    },
    {
      "cell_type": "markdown",
      "metadata": {
        "id": "Q7GcrhttEBKL"
      },
      "source": [
        "**soja**"
      ]
    },
    {
      "cell_type": "code",
      "metadata": {
        "colab": {
          "base_uri": "https://localhost:8080/"
        },
        "id": "nBDx2YX96tBB",
        "outputId": "18d28c8d-6dd9-43f6-919d-02f2e1952b1a"
      },
      "source": [
        "long, lat, campania = \\\n",
        "  dat_train.query(\"Cultivo == 'S'\")[['Longitud','Latitud','Campania']].sample(1).iloc[0,:]\n",
        "anio = int('20' + campania[-2:])\n",
        "fecha_start = str(anio-1)+'-10-01'\n",
        "fecha_end = str(anio)+'-07-31'\n",
        "\n",
        "df1 = get_stats_df(\n",
        "    s2_collection, long, lat, fecha_start, fecha_end, dim_buffer=60\n",
        "    ,reducer=ee.Reducer.mean(), scale=20)\n",
        "df1_clean = clean_df(df1)\n",
        "\n",
        "long, lat, campania"
      ],
      "execution_count": null,
      "outputs": [
        {
          "output_type": "execute_result",
          "data": {
            "text/plain": [
              "(-62.025435821189824, -33.583750212376806, '18/19')"
            ]
          },
          "metadata": {
            "tags": []
          },
          "execution_count": 26
        }
      ]
    },
    {
      "cell_type": "code",
      "metadata": {
        "colab": {
          "base_uri": "https://localhost:8080/"
        },
        "id": "4lZcffJKD78H",
        "outputId": "5e470c5a-910b-4fe1-9106-6cc7e0eeb38b"
      },
      "source": [
        "df1_clean['cloudy_perc'].median(), df1_clean['vegetation_perc'].median()"
      ],
      "execution_count": null,
      "outputs": [
        {
          "output_type": "execute_result",
          "data": {
            "text/plain": [
              "(0.083573, 42.774788)"
            ]
          },
          "metadata": {
            "tags": []
          },
          "execution_count": 27
        }
      ]
    },
    {
      "cell_type": "code",
      "metadata": {
        "colab": {
          "base_uri": "https://localhost:8080/",
          "height": 297
        },
        "id": "p_Hm6BPDlMS5",
        "outputId": "ea6f1184-a515-46e3-8f26-9d3af302d842"
      },
      "source": [
        "sns.scatterplot(x=df1['cloudy_perc'], y=df1['vegetation_perc']) # tiene sentido"
      ],
      "execution_count": null,
      "outputs": [
        {
          "output_type": "execute_result",
          "data": {
            "text/plain": [
              "<matplotlib.axes._subplots.AxesSubplot at 0x7f372dac2f60>"
            ]
          },
          "metadata": {
            "tags": []
          },
          "execution_count": 28
        },
        {
          "output_type": "display_data",
          "data": {
            "image/png": "[encoded data removed]",
            "text/plain": [
              "<Figure size 432x288 with 1 Axes>"
            ]
          },
          "metadata": {
            "tags": [],
            "needs_background": "light"
          }
        }
      ]
    },
    {
      "cell_type": "code",
      "metadata": {
        "colab": {
          "base_uri": "https://localhost:8080/",
          "height": 248
        },
        "id": "W6QYEXCWBB2C",
        "outputId": "b4d660be-b2ad-4b75-e1da-2927cd3f9c33"
      },
      "source": [
        "fig, ax = plot_bandas(df1_clean, BANDAS, black_background=True, y_max=18955)"
      ],
      "execution_count": null,
      "outputs": [
        {
          "output_type": "display_data",
          "data": {
            "image/png": "[encoded data removed]",
            "text/plain": [
              "<Figure size 288x288 with 1 Axes>"
            ]
          },
          "metadata": {
            "tags": []
          }
        }
      ]
    },
    {
      "cell_type": "markdown",
      "metadata": {
        "id": "0Pw-ZsazF-U2"
      },
      "source": [
        "**soja tardia**"
      ]
    },
    {
      "cell_type": "code",
      "metadata": {
        "colab": {
          "base_uri": "https://localhost:8080/"
        },
        "id": "TR9wLDTwF75P",
        "outputId": "b977877a-df94-4785-ae27-92958d9cb118"
      },
      "source": [
        "long, lat, campania = \\\n",
        "  dat_train.query(\"Cultivo == 'M'\")[['Longitud','Latitud','Campania']].sample(1).iloc[0,:]\n",
        "anio = int('20' + campania[-2:])\n",
        "fecha_start = str(anio-1)+'-10-01'\n",
        "fecha_end = str(anio)+'-07-31'\n",
        "\n",
        "df2 = get_stats_df(\n",
        "    s2_collection, long, lat, fecha_start, fecha_end, dim_buffer=60\n",
        "    ,reducer=ee.Reducer.mean(), scale=10, crs='EPSG:3310')\n",
        "df2_clean = clean_df(df2)\n",
        "\n",
        "long, lat, campania"
      ],
      "execution_count": null,
      "outputs": [
        {
          "output_type": "execute_result",
          "data": {
            "text/plain": [
              "(-62.294962416482285, -34.036064073398215, '19/20')"
            ]
          },
          "metadata": {
            "tags": []
          },
          "execution_count": 64
        }
      ]
    },
    {
      "cell_type": "code",
      "metadata": {
        "colab": {
          "base_uri": "https://localhost:8080/"
        },
        "id": "pxgdioTtF75P",
        "outputId": "d13f5a5a-8bf9-4423-dcf8-eb169b93d43e"
      },
      "source": [
        "df2_clean['cloudy_perc'].median(), df2_clean['vegetation_perc'].median()"
      ],
      "execution_count": null,
      "outputs": [
        {
          "output_type": "execute_result",
          "data": {
            "text/plain": [
              "(0.5380665, 37.009762499999994)"
            ]
          },
          "metadata": {
            "tags": []
          },
          "execution_count": 65
        }
      ]
    },
    {
      "cell_type": "code",
      "metadata": {
        "colab": {
          "base_uri": "https://localhost:8080/",
          "height": 248
        },
        "id": "fc9g5PHqF75Q",
        "outputId": "78b5d7b1-05d7-479c-f842-fe4edc27e708"
      },
      "source": [
        "fig, ax = plot_bandas(df2_clean, BANDAS, black_background=True, y_max=18955)"
      ],
      "execution_count": null,
      "outputs": [
        {
          "output_type": "display_data",
          "data": {
            "image/png": "[encoded data removed]",
            "text/plain": [
              "<Figure size 288x288 with 1 Axes>"
            ]
          },
          "metadata": {
            "tags": []
          }
        }
      ]
    },
    {
      "cell_type": "code",
      "metadata": {
        "colab": {
          "base_uri": "https://localhost:8080/",
          "height": 265
        },
        "id": "St7cMhWIrKdp",
        "outputId": "747f850a-240e-4266-c0dd-2e5b7e75a7a7"
      },
      "source": [
        "# aa = df2_clean[BANDAS].transpose()\r\n",
        "# sns.heatmap(aa, cbar=False)\r\n",
        "# # sns.heatmap(aa, cbar=False, vmin=0, vmax=18955)\r\n",
        "# plt.axis('off')"
      ],
      "execution_count": null,
      "outputs": [
        {
          "output_type": "execute_result",
          "data": {
            "text/plain": [
              "(0.0, 64.0, 11.0, 0.0)"
            ]
          },
          "metadata": {
            "tags": []
          },
          "execution_count": 69
        },
        {
          "output_type": "display_data",
          "data": {
            "image/png": "[encoded data removed]",
            "text/plain": [
              "<Figure size 432x288 with 1 Axes>"
            ]
          },
          "metadata": {
            "tags": []
          }
        }
      ]
    },
    {
      "cell_type": "code",
      "metadata": {
        "id": "VehxKOwB_-rG"
      },
      "source": [
        "# plt.style.available"
      ],
      "execution_count": null,
      "outputs": []
    },
    {
      "cell_type": "markdown",
      "metadata": {
        "id": "TeSgi5T5b4tl"
      },
      "source": [
        "## Notas"
      ]
    },
    {
      "cell_type": "markdown",
      "metadata": {
        "id": "8Raq7aiOfJeS"
      },
      "source": [
        "Parcialmente inspirado en:\n",
        "\n",
        "* https://developers.google.com/earth-engine/tutorials/community/time-series-visualization-with-altair"
      ]
    }
  ]
}