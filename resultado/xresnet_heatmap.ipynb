{
  "nbformat": 4,
  "nbformat_minor": 0,
  "metadata": {
    "accelerator": "GPU",
    "colab": {
      "name": "xresnet_heatmap.ipynb",
      "provenance": [],
      "collapsed_sections": [],
      "toc_visible": true
    },
    "kernelspec": {
      "display_name": "Python 3",
      "name": "python3"
    },
    "widgets": {
      "application/vnd.jupyter.widget-state+json": {
        "8434961634bf4365bf4feb962f77f44d": {
          "model_module": "@jupyter-widgets/controls",
          "model_name": "HBoxModel",
          "state": {
            "_view_name": "HBoxView",
            "_dom_classes": [],
            "_model_name": "HBoxModel",
            "_view_module": "@jupyter-widgets/controls",
            "_model_module_version": "1.5.0",
            "_view_count": null,
            "_view_module_version": "1.5.0",
            "box_style": "",
            "layout": "IPY_MODEL_556e0ba6b3a84fa186f77ac2eb1126ef",
            "_model_module": "@jupyter-widgets/controls",
            "children": [
              "IPY_MODEL_439a61e07e6849238ea8ec5924300791",
              "IPY_MODEL_36d3e9d393d24ac2b4bdb12234746606"
            ]
          }
        },
        "556e0ba6b3a84fa186f77ac2eb1126ef": {
          "model_module": "@jupyter-widgets/base",
          "model_name": "LayoutModel",
          "state": {
            "_view_name": "LayoutView",
            "grid_template_rows": null,
            "right": null,
            "justify_content": null,
            "_view_module": "@jupyter-widgets/base",
            "overflow": null,
            "_model_module_version": "1.2.0",
            "_view_count": null,
            "flex_flow": null,
            "width": null,
            "min_width": null,
            "border": null,
            "align_items": null,
            "bottom": null,
            "_model_module": "@jupyter-widgets/base",
            "top": null,
            "grid_column": null,
            "overflow_y": null,
            "overflow_x": null,
            "grid_auto_flow": null,
            "grid_area": null,
            "grid_template_columns": null,
            "flex": null,
            "_model_name": "LayoutModel",
            "justify_items": null,
            "grid_row": null,
            "max_height": null,
            "align_content": null,
            "visibility": null,
            "align_self": null,
            "height": null,
            "min_height": null,
            "padding": null,
            "grid_auto_rows": null,
            "grid_gap": null,
            "max_width": null,
            "order": null,
            "_view_module_version": "1.2.0",
            "grid_template_areas": null,
            "object_position": null,
            "object_fit": null,
            "grid_auto_columns": null,
            "margin": null,
            "display": null,
            "left": null
          }
        },
        "439a61e07e6849238ea8ec5924300791": {
          "model_module": "@jupyter-widgets/controls",
          "model_name": "FloatProgressModel",
          "state": {
            "_view_name": "ProgressView",
            "style": "IPY_MODEL_33827e1e4011413fa7c86a531ac79672",
            "_dom_classes": [],
            "description": "100%",
            "_model_name": "FloatProgressModel",
            "bar_style": "success",
            "max": 256198016,
            "_view_module": "@jupyter-widgets/controls",
            "_model_module_version": "1.5.0",
            "value": 256198016,
            "_view_count": null,
            "_view_module_version": "1.5.0",
            "orientation": "horizontal",
            "min": 0,
            "description_tooltip": null,
            "_model_module": "@jupyter-widgets/controls",
            "layout": "IPY_MODEL_550d518e55d84c3b8cf2a537ce50a2ad"
          }
        },
        "36d3e9d393d24ac2b4bdb12234746606": {
          "model_module": "@jupyter-widgets/controls",
          "model_name": "HTMLModel",
          "state": {
            "_view_name": "HTMLView",
            "style": "IPY_MODEL_1220e93f4a264505ab817788b5edc0c1",
            "_dom_classes": [],
            "description": "",
            "_model_name": "HTMLModel",
            "placeholder": "​",
            "_view_module": "@jupyter-widgets/controls",
            "_model_module_version": "1.5.0",
            "value": " 244M/244M [00:02&lt;00:00, 100MB/s]",
            "_view_count": null,
            "_view_module_version": "1.5.0",
            "description_tooltip": null,
            "_model_module": "@jupyter-widgets/controls",
            "layout": "IPY_MODEL_6ff1987265af44c0b67491ab3ee5e46c"
          }
        },
        "33827e1e4011413fa7c86a531ac79672": {
          "model_module": "@jupyter-widgets/controls",
          "model_name": "ProgressStyleModel",
          "state": {
            "_view_name": "StyleView",
            "_model_name": "ProgressStyleModel",
            "description_width": "initial",
            "_view_module": "@jupyter-widgets/base",
            "_model_module_version": "1.5.0",
            "_view_count": null,
            "_view_module_version": "1.2.0",
            "bar_color": null,
            "_model_module": "@jupyter-widgets/controls"
          }
        },
        "550d518e55d84c3b8cf2a537ce50a2ad": {
          "model_module": "@jupyter-widgets/base",
          "model_name": "LayoutModel",
          "state": {
            "_view_name": "LayoutView",
            "grid_template_rows": null,
            "right": null,
            "justify_content": null,
            "_view_module": "@jupyter-widgets/base",
            "overflow": null,
            "_model_module_version": "1.2.0",
            "_view_count": null,
            "flex_flow": null,
            "width": null,
            "min_width": null,
            "border": null,
            "align_items": null,
            "bottom": null,
            "_model_module": "@jupyter-widgets/base",
            "top": null,
            "grid_column": null,
            "overflow_y": null,
            "overflow_x": null,
            "grid_auto_flow": null,
            "grid_area": null,
            "grid_template_columns": null,
            "flex": null,
            "_model_name": "LayoutModel",
            "justify_items": null,
            "grid_row": null,
            "max_height": null,
            "align_content": null,
            "visibility": null,
            "align_self": null,
            "height": null,
            "min_height": null,
            "padding": null,
            "grid_auto_rows": null,
            "grid_gap": null,
            "max_width": null,
            "order": null,
            "_view_module_version": "1.2.0",
            "grid_template_areas": null,
            "object_position": null,
            "object_fit": null,
            "grid_auto_columns": null,
            "margin": null,
            "display": null,
            "left": null
          }
        },
        "1220e93f4a264505ab817788b5edc0c1": {
          "model_module": "@jupyter-widgets/controls",
          "model_name": "DescriptionStyleModel",
          "state": {
            "_view_name": "StyleView",
            "_model_name": "DescriptionStyleModel",
            "description_width": "",
            "_view_module": "@jupyter-widgets/base",
            "_model_module_version": "1.5.0",
            "_view_count": null,
            "_view_module_version": "1.2.0",
            "_model_module": "@jupyter-widgets/controls"
          }
        },
        "6ff1987265af44c0b67491ab3ee5e46c": {
          "model_module": "@jupyter-widgets/base",
          "model_name": "LayoutModel",
          "state": {
            "_view_name": "LayoutView",
            "grid_template_rows": null,
            "right": null,
            "justify_content": null,
            "_view_module": "@jupyter-widgets/base",
            "overflow": null,
            "_model_module_version": "1.2.0",
            "_view_count": null,
            "flex_flow": null,
            "width": null,
            "min_width": null,
            "border": null,
            "align_items": null,
            "bottom": null,
            "_model_module": "@jupyter-widgets/base",
            "top": null,
            "grid_column": null,
            "overflow_y": null,
            "overflow_x": null,
            "grid_auto_flow": null,
            "grid_area": null,
            "grid_template_columns": null,
            "flex": null,
            "_model_name": "LayoutModel",
            "justify_items": null,
            "grid_row": null,
            "max_height": null,
            "align_content": null,
            "visibility": null,
            "align_self": null,
            "height": null,
            "min_height": null,
            "padding": null,
            "grid_auto_rows": null,
            "grid_gap": null,
            "max_width": null,
            "order": null,
            "_view_module_version": "1.2.0",
            "grid_template_areas": null,
            "object_position": null,
            "object_fit": null,
            "grid_auto_columns": null,
            "margin": null,
            "display": null,
            "left": null
          }
        }
      }
    }
  },
  "cells": [
    {
      "cell_type": "code",
      "metadata": {
        "id": "WC4yohXc-TdW",
        "colab": {
          "base_uri": "https://localhost:8080/"
        },
        "outputId": "de65ae0e-d35b-4b5a-e22e-5e8a6395d831"
      },
      "source": [
        "!pip install -Uqq fastbook\n",
        "!pip list -v | grep fastai"
      ],
      "execution_count": 1,
      "outputs": [
        {
          "output_type": "stream",
          "text": [
            "\u001b[K     |████████████████████████████████| 727kB 26.2MB/s \n",
            "\u001b[K     |████████████████████████████████| 194kB 52.1MB/s \n",
            "\u001b[K     |████████████████████████████████| 1.1MB 55.2MB/s \n",
            "\u001b[K     |████████████████████████████████| 51kB 8.9MB/s \n",
            "\u001b[K     |████████████████████████████████| 61kB 9.6MB/s \n",
            "\u001b[?25hfastai                        2.1.9           /usr/local/lib/python3.6/dist-packages pip      \n"
          ],
          "name": "stdout"
        }
      ]
    },
    {
      "cell_type": "code",
      "metadata": {
        "id": "npnEzaVVhD4f"
      },
      "source": [
        "from PIL import ImageFile\n",
        "\n",
        "import pandas as pd\n",
        "import re\n",
        "\n",
        "from pathlib import Path\n",
        "from datetime import datetime\n",
        "\n",
        "from fastbook import *\n",
        "from fastai import * \n",
        "from fastai.vision.widgets import *\n",
        "from fastai.callback.fp16 import *"
      ],
      "execution_count": 2,
      "outputs": []
    },
    {
      "cell_type": "code",
      "metadata": {
        "id": "z0bfqJacAZE0"
      },
      "source": [
        "ImageFile.LOAD_TRUNCATED_IMAGES = True"
      ],
      "execution_count": 3,
      "outputs": []
    },
    {
      "cell_type": "markdown",
      "metadata": {
        "id": "j9JucHW2_x9n"
      },
      "source": [
        "## Mount Drive"
      ]
    },
    {
      "cell_type": "code",
      "metadata": {
        "id": "hvEhj6cTjFlH",
        "colab": {
          "base_uri": "https://localhost:8080/"
        },
        "outputId": "e6a4f4df-0413-4389-cf2f-36e735240409"
      },
      "source": [
        "from google.colab import drive\n",
        "drive.mount('/content/drive', force_remount=True)"
      ],
      "execution_count": 4,
      "outputs": [
        {
          "output_type": "stream",
          "text": [
            "Mounted at /content/drive\n"
          ],
          "name": "stdout"
        }
      ]
    },
    {
      "cell_type": "markdown",
      "metadata": {
        "id": "FLgggSldAN9S"
      },
      "source": [
        "## Raw data"
      ]
    },
    {
      "cell_type": "code",
      "metadata": {
        "id": "MgUI3LBVhkGu"
      },
      "source": [
        "path = Path('/content/drive/MyDrive/MACHINLEARNING/DesafioAgTech2020/data/train_heatmap_ts')\n",
        "test = Path('/content/drive/MyDrive/MACHINLEARNING/DesafioAgTech2020/data/test_heatmap_ts')"
      ],
      "execution_count": 5,
      "outputs": []
    },
    {
      "cell_type": "code",
      "metadata": {
        "colab": {
          "base_uri": "https://localhost:8080/"
        },
        "id": "X6iWKD13i3gb",
        "outputId": "267baea7-9365-4e00-ae24-33ecfaea0f66"
      },
      "source": [
        "path.exists()"
      ],
      "execution_count": 6,
      "outputs": [
        {
          "output_type": "execute_result",
          "data": {
            "text/plain": [
              "True"
            ]
          },
          "metadata": {
            "tags": []
          },
          "execution_count": 6
        }
      ]
    },
    {
      "cell_type": "code",
      "metadata": {
        "id": "6X2wtmkR9fvm"
      },
      "source": [
        "etiquetas_url = 'https://raw.githubusercontent.com/DesafiosAgTech/DesafioAgTech2020/master/dataset/Etiquetas.csv'\n",
        "etiquetas =  pd.read_csv(etiquetas_url, error_bad_lines=False)"
      ],
      "execution_count": 7,
      "outputs": []
    },
    {
      "cell_type": "markdown",
      "metadata": {
        "id": "lyPa_8wqAcO1"
      },
      "source": [
        "## Parameters\r\n",
        "\r\n",
        "Parameters de arquitectura y de training"
      ]
    },
    {
      "cell_type": "code",
      "metadata": {
        "id": "t52gI-0hIEHo"
      },
      "source": [
        "model_id = \"xresnet50_heatmap\""
      ],
      "execution_count": 8,
      "outputs": []
    },
    {
      "cell_type": "code",
      "metadata": {
        "id": "gOISXergCzk-"
      },
      "source": [
        "# instantiate balanced accuracy metric\n",
        "balanced_accuracy = BalancedAccuracy()\n",
        "\n",
        "# dataloader\n",
        "seed = 1 # seed split train-validation\n",
        "valid_pct = 0.2 # % data validacion\n",
        "bs = 32 # batch size\n",
        "\n",
        "# fine_tune model parameters\n",
        "arch =  xresnet50  # architecture\n",
        "loss_func = CrossEntropyLossFlat\n",
        "pretrained = True\n",
        "metrics = [balanced_accuracy, error_rate]\n",
        "epochs = 22\n",
        "lr = 10e-3\n",
        "# opt_func = Adam (valor default)"
      ],
      "execution_count": 9,
      "outputs": []
    },
    {
      "cell_type": "markdown",
      "metadata": {
        "id": "rUG291lhBNYT"
      },
      "source": [
        "## Data"
      ]
    },
    {
      "cell_type": "code",
      "metadata": {
        "id": "kkJisxxjhS1O"
      },
      "source": [
        "# Load data with fastai\n",
        "lotes2 = DataBlock(\n",
        "    blocks=(ImageBlock, CategoryBlock), \n",
        "    get_items=get_image_files, \n",
        "    splitter=RandomSplitter(valid_pct=valid_pct, seed=seed),\n",
        "    get_y=parent_label,\n",
        "    item_tfms=RatioResize(224))\n",
        "# square of resize pixels. Bigger the better but more hardware needed pg28 of fastai\n",
        "\n",
        "dls = lotes2.dataloaders(path, bs=bs)"
      ],
      "execution_count": 10,
      "outputs": []
    },
    {
      "cell_type": "markdown",
      "metadata": {
        "id": "wINYIU1QEMkW"
      },
      "source": [
        "Controles"
      ]
    },
    {
      "cell_type": "code",
      "metadata": {
        "colab": {
          "base_uri": "https://localhost:8080/"
        },
        "id": "KlMghQjHZu_4",
        "outputId": "42d3b992-6042-4609-8d3b-43096f45e809"
      },
      "source": [
        "# N of training data\r\n",
        "dls.train.n"
      ],
      "execution_count": 11,
      "outputs": [
        {
          "output_type": "execute_result",
          "data": {
            "text/plain": [
              "680"
            ]
          },
          "metadata": {
            "tags": []
          },
          "execution_count": 11
        }
      ]
    },
    {
      "cell_type": "code",
      "metadata": {
        "colab": {
          "base_uri": "https://localhost:8080/"
        },
        "id": "L-VNZqVjt8Vk",
        "outputId": "412aaee5-1d58-471b-c554-f0bc402d8205"
      },
      "source": [
        "dls.train.vocab"
      ],
      "execution_count": 12,
      "outputs": [
        {
          "output_type": "execute_result",
          "data": {
            "text/plain": [
              "['A', 'B', 'G', 'M', 'N', 'P', 'R', 'S', 'T', 'U', 'X', 'aa', 'm', 's']"
            ]
          },
          "metadata": {
            "tags": []
          },
          "execution_count": 12
        }
      ]
    },
    {
      "cell_type": "code",
      "metadata": {
        "id": "Vu9S9DHDjekI",
        "colab": {
          "base_uri": "https://localhost:8080/",
          "height": 210
        },
        "outputId": "ffe8f242-b663-48ac-f382-096d60f627cc"
      },
      "source": [
        "dls.valid.show_batch(max_n=1, nrows=1)"
      ],
      "execution_count": 13,
      "outputs": [
        {
          "output_type": "display_data",
          "data": {
            "image/png": "[encoded data removed]",
            "text/plain": [
              "<Figure size 216x216 with 1 Axes>"
            ]
          },
          "metadata": {
            "tags": [],
            "needs_background": "light"
          }
        }
      ]
    },
    {
      "cell_type": "code",
      "metadata": {
        "id": "h6ZzeY-U_bid",
        "colab": {
          "base_uri": "https://localhost:8080/",
          "height": 536
        },
        "outputId": "5d8b532e-6841-4793-8d8e-2a5308d45f97"
      },
      "source": [
        "dls.show_batch()"
      ],
      "execution_count": 14,
      "outputs": [
        {
          "output_type": "display_data",
          "data": {
            "image/png": "[encoded data removed]",
            "text/plain": [
              "<Figure size 648x648 with 9 Axes>"
            ]
          },
          "metadata": {
            "tags": [],
            "needs_background": "light"
          }
        }
      ]
    },
    {
      "cell_type": "markdown",
      "metadata": {
        "id": "JV_dytAtDrBs"
      },
      "source": [
        "## Sample weights"
      ]
    },
    {
      "cell_type": "code",
      "metadata": {
        "id": "uWKkicUOgWTH"
      },
      "source": [
        "def make_weights_for_balanced_classes(labels, nclasses):\n",
        "  \"\"\"\n",
        "  Returns weight of each image \n",
        "  Weights are inversely correlated to class frequency \n",
        "  \"\"\"\n",
        "  count = [0] * nclasses                                                      \n",
        "  for l in labels:                                                         \n",
        "      count[l] += 1                                                     \n",
        "  weight_per_class = [0.] * nclasses                                      \n",
        "  N = float(sum(count))                                                   \n",
        "  for i in range(nclasses):                                                   \n",
        "      weight_per_class[i] = N/float(count[i])                                 \n",
        "  weight = [0] * len(labels)                                              \n",
        "  for idx, val in enumerate(labels):                                          \n",
        "      weight[idx] = weight_per_class[val]                                  \n",
        "  return weight\n",
        "\n",
        "\n",
        "def get_sampler(dataloader):\n",
        "  \"\"\"\n",
        "  Returns sampler using weights for a given data\n",
        "  Esta funcion es una alternativa a get_weights()\n",
        "  \"\"\"\n",
        "  imagenes = list()\n",
        "  labels = list()\n",
        "  for i,l in dataloader.train:\n",
        "    imagenes.append(i)\n",
        "    labels.append(l)\n",
        "  imagenes2 = torch.cat(imagenes)\n",
        "  labels2 = torch.cat(labels)\n",
        "  n_classes = len(torch.unique(labels2))\n",
        "  weights = make_weights_for_balanced_classes(labels2, n_classes)                                                                \n",
        "  weights = torch.DoubleTensor(weights)                                       \n",
        "  sampler = torch.utils.data.sampler.WeightedRandomSampler(weights, len(weights))\n",
        "  return sampler\n",
        "\n",
        "\n",
        "def get_weights(dls):\n",
        "  \"\"\"\n",
        "  Get weights based on the class distribution in the training data\n",
        "  Basado en https://forums.fast.ai/t/oversampling-in-fastai2/73721/3\n",
        "  Esta funcion es una alternativa a get_sampler()\n",
        "  \"\"\"\n",
        "  # 0th index would provide the vocab from text\n",
        "  # 1st index would provide the vocab from classes\n",
        "  classes = dls.train.vocab\n",
        "  #Get label ids from the dataset using map\n",
        "  #train_lb_ids = L(map(lambda x: x[1], dls.train_ds))\n",
        "  # Get the actual labels from the label_ids & the vocab\n",
        "  #train_lbls = L(map(lambda x: classes[x], train_lb_ids))\n",
        "  #Combine the above into a single\n",
        "  train_lbls = L(map(lambda x: classes[x[1]], dls.train_ds))\n",
        "  label_counter = Counter(train_lbls)\n",
        "  n_most_common_class = max(label_counter.values()); \n",
        "  print(f'Occurrences of the most common class {n_most_common_class}')\n",
        "  # Source: https://discuss.pytorch.org/t/what-is-the-weight-values-mean-in-torch-nn-crossentropyloss/11455/9\n",
        "  # weights = [n_most_common_class/v for k, v in label_counter.items() if v > 0]; return weights \n",
        "  weights = [n_most_common_class/label_counter[k] for  k in dls.train.vocab ]\n",
        "  return weights\n"
      ],
      "execution_count": 15,
      "outputs": []
    },
    {
      "cell_type": "code",
      "metadata": {
        "id": "C8nVssj4EIyJ"
      },
      "source": [
        "# create dataloader using sampler\r\n",
        "dls2 =  lotes2.dataloaders(path, bs=bs, sampler=get_sampler(dls))"
      ],
      "execution_count": 16,
      "outputs": []
    },
    {
      "cell_type": "markdown",
      "metadata": {
        "id": "Pr-Ie-tPKBjr"
      },
      "source": [
        "## Learning rate\r\n",
        "\r\n",
        "Find \"optimal\" learning rate"
      ]
    },
    {
      "cell_type": "code",
      "metadata": {
        "id": "Y_9My15zyPGD",
        "colab": {
          "base_uri": "https://localhost:8080/",
          "height": 355,
          "referenced_widgets": [
            "8434961634bf4365bf4feb962f77f44d",
            "556e0ba6b3a84fa186f77ac2eb1126ef",
            "439a61e07e6849238ea8ec5924300791",
            "36d3e9d393d24ac2b4bdb12234746606",
            "33827e1e4011413fa7c86a531ac79672",
            "550d518e55d84c3b8cf2a537ce50a2ad",
            "1220e93f4a264505ab817788b5edc0c1",
            "6ff1987265af44c0b67491ab3ee5e46c"
          ]
        },
        "outputId": "19073ce7-2bb5-4605-a7cf-1a1ee968c1cd"
      },
      "source": [
        "learn = None\n",
        "learn = cnn_learner(\n",
        "    dls2, arch, loss_func=loss_func(), pretrained=pretrained\n",
        "    , metrics=metrics)\n",
        "lr_min, lr_steep = learn.lr_find()\n",
        "# # # 10e-3"
      ],
      "execution_count": 17,
      "outputs": [
        {
          "output_type": "stream",
          "text": [
            "Downloading: \"https://s3.amazonaws.com/fast-ai-modelzoo/xrn50_940.pth\" to /root/.cache/torch/hub/checkpoints/xrn50_940.pth\n"
          ],
          "name": "stderr"
        },
        {
          "output_type": "display_data",
          "data": {
            "application/vnd.jupyter.widget-view+json": {
              "model_id": "8434961634bf4365bf4feb962f77f44d",
              "version_minor": 0,
              "version_major": 2
            },
            "text/plain": [
              "HBox(children=(FloatProgress(value=0.0, max=256198016.0), HTML(value='')))"
            ]
          },
          "metadata": {
            "tags": []
          }
        },
        {
          "output_type": "stream",
          "text": [
            "\n"
          ],
          "name": "stdout"
        },
        {
          "output_type": "display_data",
          "data": {
            "text/html": [
              ""
            ],
            "text/plain": [
              "<IPython.core.display.HTML object>"
            ]
          },
          "metadata": {
            "tags": []
          }
        },
        {
          "output_type": "display_data",
          "data": {
            "image/png": "[encoded data removed]",
            "text/plain": [
              "<Figure size 432x288 with 1 Axes>"
            ]
          },
          "metadata": {
            "tags": [],
            "needs_background": "light"
          }
        }
      ]
    },
    {
      "cell_type": "markdown",
      "metadata": {
        "id": "Ox4QiXRaKuAg"
      },
      "source": [
        "## Train - validate"
      ]
    },
    {
      "cell_type": "code",
      "metadata": {
        "id": "KVBvEaxGkW9f",
        "colab": {
          "base_uri": "https://localhost:8080/",
          "height": 1000
        },
        "outputId": "ca02370c-5138-4d40-ec06-037c04e3966a"
      },
      "source": [
        "# def set_seeds():\n",
        "#   random.seed(42)\n",
        "#   np.random.seed(12345)\n",
        "#   torch.manual_seed(1234)\n",
        "#   torch.backends.cudnn.deterministic = True\n",
        "#   torch.backends.cudnn.benchmark = False\n",
        "\n",
        "# set_seeds()\n",
        "\n",
        "learn = None\n",
        "learn = cnn_learner(\n",
        "    dls2, arch, loss_func=loss_func(), pretrained=pretrained, metrics= metrics).to_fp16()\n",
        "learn.fine_tune(epochs=epochs, base_lr=lr)\n",
        "learn.recorder.plot_loss()"
      ],
      "execution_count": 18,
      "outputs": [
        {
          "output_type": "display_data",
          "data": {
            "text/html": [
              "<table border=\"1\" class=\"dataframe\">\n",
              "  <thead>\n",
              "    <tr style=\"text-align: left;\">\n",
              "      <th>epoch</th>\n",
              "      <th>train_loss</th>\n",
              "      <th>valid_loss</th>\n",
              "      <th>balanced_accuracy_score</th>\n",
              "      <th>error_rate</th>\n",
              "      <th>time</th>\n",
              "    </tr>\n",
              "  </thead>\n",
              "  <tbody>\n",
              "    <tr>\n",
              "      <td>0</td>\n",
              "      <td>3.042001</td>\n",
              "      <td>3.191392</td>\n",
              "      <td>0.140166</td>\n",
              "      <td>0.798817</td>\n",
              "      <td>00:20</td>\n",
              "    </tr>\n",
              "  </tbody>\n",
              "</table>"
            ],
            "text/plain": [
              "<IPython.core.display.HTML object>"
            ]
          },
          "metadata": {
            "tags": []
          }
        },
        {
          "output_type": "display_data",
          "data": {
            "text/html": [
              "<table border=\"1\" class=\"dataframe\">\n",
              "  <thead>\n",
              "    <tr style=\"text-align: left;\">\n",
              "      <th>epoch</th>\n",
              "      <th>train_loss</th>\n",
              "      <th>valid_loss</th>\n",
              "      <th>balanced_accuracy_score</th>\n",
              "      <th>error_rate</th>\n",
              "      <th>time</th>\n",
              "    </tr>\n",
              "  </thead>\n",
              "  <tbody>\n",
              "    <tr>\n",
              "      <td>0</td>\n",
              "      <td>1.772927</td>\n",
              "      <td>1.371213</td>\n",
              "      <td>0.361598</td>\n",
              "      <td>0.295858</td>\n",
              "      <td>00:07</td>\n",
              "    </tr>\n",
              "    <tr>\n",
              "      <td>1</td>\n",
              "      <td>1.472017</td>\n",
              "      <td>1.094255</td>\n",
              "      <td>0.422175</td>\n",
              "      <td>0.236686</td>\n",
              "      <td>00:07</td>\n",
              "    </tr>\n",
              "    <tr>\n",
              "      <td>2</td>\n",
              "      <td>1.263608</td>\n",
              "      <td>1.245273</td>\n",
              "      <td>0.434284</td>\n",
              "      <td>0.230769</td>\n",
              "      <td>00:07</td>\n",
              "    </tr>\n",
              "    <tr>\n",
              "      <td>3</td>\n",
              "      <td>1.095168</td>\n",
              "      <td>1.181507</td>\n",
              "      <td>0.380663</td>\n",
              "      <td>0.248521</td>\n",
              "      <td>00:07</td>\n",
              "    </tr>\n",
              "    <tr>\n",
              "      <td>4</td>\n",
              "      <td>1.032367</td>\n",
              "      <td>1.283686</td>\n",
              "      <td>0.451816</td>\n",
              "      <td>0.248521</td>\n",
              "      <td>00:07</td>\n",
              "    </tr>\n",
              "    <tr>\n",
              "      <td>5</td>\n",
              "      <td>0.984815</td>\n",
              "      <td>1.537355</td>\n",
              "      <td>0.381941</td>\n",
              "      <td>0.295858</td>\n",
              "      <td>00:07</td>\n",
              "    </tr>\n",
              "    <tr>\n",
              "      <td>6</td>\n",
              "      <td>0.934647</td>\n",
              "      <td>1.170823</td>\n",
              "      <td>0.475570</td>\n",
              "      <td>0.278107</td>\n",
              "      <td>00:07</td>\n",
              "    </tr>\n",
              "    <tr>\n",
              "      <td>7</td>\n",
              "      <td>0.849069</td>\n",
              "      <td>1.336961</td>\n",
              "      <td>0.462365</td>\n",
              "      <td>0.278107</td>\n",
              "      <td>00:07</td>\n",
              "    </tr>\n",
              "    <tr>\n",
              "      <td>8</td>\n",
              "      <td>0.774837</td>\n",
              "      <td>1.223725</td>\n",
              "      <td>0.416327</td>\n",
              "      <td>0.230769</td>\n",
              "      <td>00:07</td>\n",
              "    </tr>\n",
              "    <tr>\n",
              "      <td>9</td>\n",
              "      <td>0.682203</td>\n",
              "      <td>1.311450</td>\n",
              "      <td>0.538746</td>\n",
              "      <td>0.230769</td>\n",
              "      <td>00:07</td>\n",
              "    </tr>\n",
              "    <tr>\n",
              "      <td>10</td>\n",
              "      <td>0.584565</td>\n",
              "      <td>1.404251</td>\n",
              "      <td>0.522487</td>\n",
              "      <td>0.218935</td>\n",
              "      <td>00:07</td>\n",
              "    </tr>\n",
              "    <tr>\n",
              "      <td>11</td>\n",
              "      <td>0.503252</td>\n",
              "      <td>1.515306</td>\n",
              "      <td>0.458063</td>\n",
              "      <td>0.278107</td>\n",
              "      <td>00:07</td>\n",
              "    </tr>\n",
              "    <tr>\n",
              "      <td>12</td>\n",
              "      <td>0.430775</td>\n",
              "      <td>1.555687</td>\n",
              "      <td>0.584171</td>\n",
              "      <td>0.260355</td>\n",
              "      <td>00:07</td>\n",
              "    </tr>\n",
              "    <tr>\n",
              "      <td>13</td>\n",
              "      <td>0.364245</td>\n",
              "      <td>1.225746</td>\n",
              "      <td>0.693963</td>\n",
              "      <td>0.224852</td>\n",
              "      <td>00:07</td>\n",
              "    </tr>\n",
              "    <tr>\n",
              "      <td>14</td>\n",
              "      <td>0.301326</td>\n",
              "      <td>1.279050</td>\n",
              "      <td>0.569034</td>\n",
              "      <td>0.213018</td>\n",
              "      <td>00:07</td>\n",
              "    </tr>\n",
              "    <tr>\n",
              "      <td>15</td>\n",
              "      <td>0.228390</td>\n",
              "      <td>1.355596</td>\n",
              "      <td>0.599477</td>\n",
              "      <td>0.213018</td>\n",
              "      <td>00:07</td>\n",
              "    </tr>\n",
              "    <tr>\n",
              "      <td>16</td>\n",
              "      <td>0.173341</td>\n",
              "      <td>1.370476</td>\n",
              "      <td>0.710603</td>\n",
              "      <td>0.195266</td>\n",
              "      <td>00:07</td>\n",
              "    </tr>\n",
              "    <tr>\n",
              "      <td>17</td>\n",
              "      <td>0.130252</td>\n",
              "      <td>1.359556</td>\n",
              "      <td>0.626738</td>\n",
              "      <td>0.195266</td>\n",
              "      <td>00:07</td>\n",
              "    </tr>\n",
              "    <tr>\n",
              "      <td>18</td>\n",
              "      <td>0.104730</td>\n",
              "      <td>1.393006</td>\n",
              "      <td>0.624198</td>\n",
              "      <td>0.189349</td>\n",
              "      <td>00:07</td>\n",
              "    </tr>\n",
              "    <tr>\n",
              "      <td>19</td>\n",
              "      <td>0.083825</td>\n",
              "      <td>1.418146</td>\n",
              "      <td>0.611838</td>\n",
              "      <td>0.201183</td>\n",
              "      <td>00:07</td>\n",
              "    </tr>\n",
              "    <tr>\n",
              "      <td>20</td>\n",
              "      <td>0.072675</td>\n",
              "      <td>1.417149</td>\n",
              "      <td>0.600600</td>\n",
              "      <td>0.207101</td>\n",
              "      <td>00:07</td>\n",
              "    </tr>\n",
              "    <tr>\n",
              "      <td>21</td>\n",
              "      <td>0.061792</td>\n",
              "      <td>1.423986</td>\n",
              "      <td>0.607053</td>\n",
              "      <td>0.207101</td>\n",
              "      <td>00:07</td>\n",
              "    </tr>\n",
              "  </tbody>\n",
              "</table>"
            ],
            "text/plain": [
              "<IPython.core.display.HTML object>"
            ]
          },
          "metadata": {
            "tags": []
          }
        },
        {
          "output_type": "stream",
          "text": [
            "/usr/local/lib/python3.6/dist-packages/sklearn/metrics/_classification.py:1859: UserWarning: y_pred contains classes not in y_true\n",
            "  warnings.warn('y_pred contains classes not in y_true')\n"
          ],
          "name": "stderr"
        },
        {
          "output_type": "display_data",
          "data": {
            "image/png": "[encoded data removed]",
            "text/plain": [
              "<Figure size 432x288 with 1 Axes>"
            ]
          },
          "metadata": {
            "tags": [],
            "needs_background": "light"
          }
        }
      ]
    },
    {
      "cell_type": "markdown",
      "metadata": {
        "id": "2VYjzSPiLmXs"
      },
      "source": [
        "### Performance\r\n",
        "\r\n",
        "Validation metrics"
      ]
    },
    {
      "cell_type": "code",
      "metadata": {
        "id": "XKBbFA6hmrnh",
        "colab": {
          "base_uri": "https://localhost:8080/",
          "height": 327
        },
        "outputId": "4db14476-6ec5-48b1-e2fc-7c4cf2a62776"
      },
      "source": [
        "interp = ClassificationInterpretation.from_learner(learn)\n",
        "interp.plot_confusion_matrix()\n",
        "interp.most_confused(min_val=5)"
      ],
      "execution_count": 19,
      "outputs": [
        {
          "output_type": "display_data",
          "data": {
            "text/html": [
              ""
            ],
            "text/plain": [
              "<IPython.core.display.HTML object>"
            ]
          },
          "metadata": {
            "tags": []
          }
        },
        {
          "output_type": "execute_result",
          "data": {
            "text/plain": [
              "[]"
            ]
          },
          "metadata": {
            "tags": []
          },
          "execution_count": 19
        },
        {
          "output_type": "display_data",
          "data": {
            "image/png": "[encoded data removed]",
            "text/plain": [
              "<Figure size 432x288 with 1 Axes>"
            ]
          },
          "metadata": {
            "tags": [],
            "needs_background": "light"
          }
        }
      ]
    },
    {
      "cell_type": "code",
      "metadata": {
        "id": "R25eYbHroTOG",
        "colab": {
          "base_uri": "https://localhost:8080/",
          "height": 204
        },
        "outputId": "48b69841-7586-49b5-e2de-58f3c94d05e1"
      },
      "source": [
        "interp.plot_top_losses(5, nrows=1)"
      ],
      "execution_count": 20,
      "outputs": [
        {
          "output_type": "display_data",
          "data": {
            "image/png": "[encoded data removed]",
            "text/plain": [
              "<Figure size 1080x216 with 5 Axes>"
            ]
          },
          "metadata": {
            "tags": [],
            "needs_background": "light"
          }
        }
      ]
    },
    {
      "cell_type": "code",
      "metadata": {
        "id": "6piHiOjkJajs"
      },
      "source": [
        "# # loss of each validation image\r\n",
        "# interp.losses.abs()"
      ],
      "execution_count": null,
      "outputs": []
    },
    {
      "cell_type": "markdown",
      "metadata": {
        "id": "7pPw0ZBtMJr4"
      },
      "source": [
        "## Train\r\n",
        "\r\n",
        "Final training with all data (train + validation)"
      ]
    },
    {
      "cell_type": "code",
      "metadata": {
        "id": "MNYi_ubpDkp1",
        "colab": {
          "base_uri": "https://localhost:8080/",
          "height": 1000
        },
        "outputId": "3e718ac7-907e-438c-9b3c-7e6a21213d35"
      },
      "source": [
        "lotes_alldata = DataBlock(\n",
        "    blocks=(ImageBlock, CategoryBlock), \n",
        "    get_items=get_image_files, \n",
        "    splitter=RandomSplitter(valid_pct=0.0, seed=seed),\n",
        "    get_y=parent_label,\n",
        "    item_tfms=RatioResize(224))\n",
        "\n",
        "dls_alldata = lotes_alldata.dataloaders(path, bs=bs)\n",
        "dls_alldata2 = lotes_alldata.dataloaders(\n",
        "    path, bs=bs, sampler=get_sampler(dls_alldata))\n",
        "\n",
        "learn = None\n",
        "learn = cnn_learner(\n",
        "    dls_alldata2, arch, loss_func=loss_func(), pretrained=pretrained, metrics=metrics).to_fp16()\n",
        "learn.fine_tune(epochs=epochs, base_lr=lr)\n",
        "learn.recorder.plot_loss()"
      ],
      "execution_count": 21,
      "outputs": [
        {
          "output_type": "display_data",
          "data": {
            "text/html": [
              "<table border=\"1\" class=\"dataframe\">\n",
              "  <thead>\n",
              "    <tr style=\"text-align: left;\">\n",
              "      <th>epoch</th>\n",
              "      <th>train_loss</th>\n",
              "      <th>valid_loss</th>\n",
              "      <th>balanced_accuracy_score</th>\n",
              "      <th>error_rate</th>\n",
              "      <th>time</th>\n",
              "    </tr>\n",
              "  </thead>\n",
              "  <tbody>\n",
              "    <tr>\n",
              "      <td>0</td>\n",
              "      <td>2.739158</td>\n",
              "      <td>None</td>\n",
              "      <td>None</td>\n",
              "      <td>None</td>\n",
              "      <td>00:06</td>\n",
              "    </tr>\n",
              "  </tbody>\n",
              "</table>"
            ],
            "text/plain": [
              "<IPython.core.display.HTML object>"
            ]
          },
          "metadata": {
            "tags": []
          }
        },
        {
          "output_type": "stream",
          "text": [
            "/usr/local/lib/python3.6/dist-packages/fastprogress/fastprogress.py:74: UserWarning: Your generator is empty.\n",
            "  warn(\"Your generator is empty.\")\n"
          ],
          "name": "stderr"
        },
        {
          "output_type": "display_data",
          "data": {
            "text/html": [
              "<table border=\"1\" class=\"dataframe\">\n",
              "  <thead>\n",
              "    <tr style=\"text-align: left;\">\n",
              "      <th>epoch</th>\n",
              "      <th>train_loss</th>\n",
              "      <th>valid_loss</th>\n",
              "      <th>balanced_accuracy_score</th>\n",
              "      <th>error_rate</th>\n",
              "      <th>time</th>\n",
              "    </tr>\n",
              "  </thead>\n",
              "  <tbody>\n",
              "    <tr>\n",
              "      <td>0</td>\n",
              "      <td>1.556774</td>\n",
              "      <td>None</td>\n",
              "      <td>None</td>\n",
              "      <td>None</td>\n",
              "      <td>00:07</td>\n",
              "    </tr>\n",
              "    <tr>\n",
              "      <td>1</td>\n",
              "      <td>1.248246</td>\n",
              "      <td>None</td>\n",
              "      <td>None</td>\n",
              "      <td>None</td>\n",
              "      <td>00:07</td>\n",
              "    </tr>\n",
              "    <tr>\n",
              "      <td>2</td>\n",
              "      <td>1.112677</td>\n",
              "      <td>None</td>\n",
              "      <td>None</td>\n",
              "      <td>None</td>\n",
              "      <td>00:07</td>\n",
              "    </tr>\n",
              "    <tr>\n",
              "      <td>3</td>\n",
              "      <td>1.028327</td>\n",
              "      <td>None</td>\n",
              "      <td>None</td>\n",
              "      <td>None</td>\n",
              "      <td>00:07</td>\n",
              "    </tr>\n",
              "    <tr>\n",
              "      <td>4</td>\n",
              "      <td>0.982494</td>\n",
              "      <td>None</td>\n",
              "      <td>None</td>\n",
              "      <td>None</td>\n",
              "      <td>00:07</td>\n",
              "    </tr>\n",
              "    <tr>\n",
              "      <td>5</td>\n",
              "      <td>0.947536</td>\n",
              "      <td>None</td>\n",
              "      <td>None</td>\n",
              "      <td>None</td>\n",
              "      <td>00:07</td>\n",
              "    </tr>\n",
              "    <tr>\n",
              "      <td>6</td>\n",
              "      <td>0.891917</td>\n",
              "      <td>None</td>\n",
              "      <td>None</td>\n",
              "      <td>None</td>\n",
              "      <td>00:07</td>\n",
              "    </tr>\n",
              "    <tr>\n",
              "      <td>7</td>\n",
              "      <td>0.865767</td>\n",
              "      <td>None</td>\n",
              "      <td>None</td>\n",
              "      <td>None</td>\n",
              "      <td>00:07</td>\n",
              "    </tr>\n",
              "    <tr>\n",
              "      <td>8</td>\n",
              "      <td>0.775982</td>\n",
              "      <td>None</td>\n",
              "      <td>None</td>\n",
              "      <td>None</td>\n",
              "      <td>00:07</td>\n",
              "    </tr>\n",
              "    <tr>\n",
              "      <td>9</td>\n",
              "      <td>0.708737</td>\n",
              "      <td>None</td>\n",
              "      <td>None</td>\n",
              "      <td>None</td>\n",
              "      <td>00:07</td>\n",
              "    </tr>\n",
              "    <tr>\n",
              "      <td>10</td>\n",
              "      <td>0.613806</td>\n",
              "      <td>None</td>\n",
              "      <td>None</td>\n",
              "      <td>None</td>\n",
              "      <td>00:07</td>\n",
              "    </tr>\n",
              "    <tr>\n",
              "      <td>11</td>\n",
              "      <td>0.542295</td>\n",
              "      <td>None</td>\n",
              "      <td>None</td>\n",
              "      <td>None</td>\n",
              "      <td>00:07</td>\n",
              "    </tr>\n",
              "    <tr>\n",
              "      <td>12</td>\n",
              "      <td>0.469661</td>\n",
              "      <td>None</td>\n",
              "      <td>None</td>\n",
              "      <td>None</td>\n",
              "      <td>00:07</td>\n",
              "    </tr>\n",
              "    <tr>\n",
              "      <td>13</td>\n",
              "      <td>0.390025</td>\n",
              "      <td>None</td>\n",
              "      <td>None</td>\n",
              "      <td>None</td>\n",
              "      <td>00:07</td>\n",
              "    </tr>\n",
              "    <tr>\n",
              "      <td>14</td>\n",
              "      <td>0.310888</td>\n",
              "      <td>None</td>\n",
              "      <td>None</td>\n",
              "      <td>None</td>\n",
              "      <td>00:07</td>\n",
              "    </tr>\n",
              "    <tr>\n",
              "      <td>15</td>\n",
              "      <td>0.248840</td>\n",
              "      <td>None</td>\n",
              "      <td>None</td>\n",
              "      <td>None</td>\n",
              "      <td>00:07</td>\n",
              "    </tr>\n",
              "    <tr>\n",
              "      <td>16</td>\n",
              "      <td>0.190707</td>\n",
              "      <td>None</td>\n",
              "      <td>None</td>\n",
              "      <td>None</td>\n",
              "      <td>00:08</td>\n",
              "    </tr>\n",
              "    <tr>\n",
              "      <td>17</td>\n",
              "      <td>0.143205</td>\n",
              "      <td>None</td>\n",
              "      <td>None</td>\n",
              "      <td>None</td>\n",
              "      <td>00:07</td>\n",
              "    </tr>\n",
              "    <tr>\n",
              "      <td>18</td>\n",
              "      <td>0.106900</td>\n",
              "      <td>None</td>\n",
              "      <td>None</td>\n",
              "      <td>None</td>\n",
              "      <td>00:07</td>\n",
              "    </tr>\n",
              "    <tr>\n",
              "      <td>19</td>\n",
              "      <td>0.084952</td>\n",
              "      <td>None</td>\n",
              "      <td>None</td>\n",
              "      <td>None</td>\n",
              "      <td>00:07</td>\n",
              "    </tr>\n",
              "    <tr>\n",
              "      <td>20</td>\n",
              "      <td>0.069550</td>\n",
              "      <td>None</td>\n",
              "      <td>None</td>\n",
              "      <td>None</td>\n",
              "      <td>00:07</td>\n",
              "    </tr>\n",
              "    <tr>\n",
              "      <td>21</td>\n",
              "      <td>0.056741</td>\n",
              "      <td>None</td>\n",
              "      <td>None</td>\n",
              "      <td>None</td>\n",
              "      <td>00:07</td>\n",
              "    </tr>\n",
              "  </tbody>\n",
              "</table>"
            ],
            "text/plain": [
              "<IPython.core.display.HTML object>"
            ]
          },
          "metadata": {
            "tags": []
          }
        },
        {
          "output_type": "display_data",
          "data": {
            "image/png": "[encoded data removed]",
            "text/plain": [
              "<Figure size 432x288 with 1 Axes>"
            ]
          },
          "metadata": {
            "tags": [],
            "needs_background": "light"
          }
        }
      ]
    },
    {
      "cell_type": "markdown",
      "metadata": {
        "id": "52smwUifGS1_"
      },
      "source": [
        "## Save"
      ]
    },
    {
      "cell_type": "code",
      "metadata": {
        "id": "nk0YsbI7kzlr"
      },
      "source": [
        "model_file = f'/content/drive/MyDrive/MACHINLEARNING/DesafioAgTech2020/{model_id}.pkl'\r\n",
        "\r\n",
        "# save models as pkl\r\n",
        "learn.export(model_file)"
      ],
      "execution_count": null,
      "outputs": []
    },
    {
      "cell_type": "code",
      "metadata": {
        "id": "uiwIGvuWGwuY"
      },
      "source": [
        "def generate_submit_from_learner(\r\n",
        "    pkt_path_str\r\n",
        "    ,test_path_str='/content/drive/MyDrive/MACHINLEARNING/DesafioAgTech2020/data/test'\r\n",
        "    ,export_path_str = '/content/drive/MyDrive/MACHINLEARNING/DesafioAgTech2020/submit/'):\r\n",
        "    \"\"\"\r\n",
        "    Submits csv ready to upload in the export path. Date at the end\r\n",
        "    Input: \r\n",
        "      - pkl learner path as string\r\n",
        "      - path of test directory (.png) as string. Must end in GlobalId.png\r\n",
        "      - path to export directory as string\r\n",
        "    \"\"\"\r\n",
        "    etiquetas_url = 'https://raw.githubusercontent.com/DesafiosAgTech/DesafioAgTech2020/master/dataset/Etiquetas.csv'\r\n",
        "    etiquetas =  pd.read_csv(etiquetas_url, error_bad_lines=False)\r\n",
        "    # Load model and predict using same transformation?\r\n",
        "    learn = load_learner(str(pkt_path_str))\r\n",
        "    test_dl = learn.dls.test_dl(get_image_files(test_path_str))\r\n",
        "    # Predicts and returns most probable class\r\n",
        "    preds,y = learn.get_preds(dl = test_dl)\r\n",
        "    y = torch.argmax(preds, dim = 1)\r\n",
        "    # Predicted to corresponding CultivoId + add global id for submit\r\n",
        "    glob_list = [re.findall(r'(\\d+).png', r) for r in [str(p) for p in test_dl.items]]\r\n",
        "    globalids = [int(id) for sub in glob_list for id in sub] \r\n",
        "    prediction = [learn.dls.vocab[p] for p in y.tolist()]\r\n",
        "    prediction_df = pd.DataFrame(zip(globalids,prediction), columns=['globalid','clase'])\r\n",
        "    submit = prediction_df.merge(\r\n",
        "        etiquetas, how = \"left\", left_on= 'clase', right_on='Cultivo')[['globalid','CultivoId']]\r\n",
        "    # exports submit\r\n",
        "    now = datetime.now()\r\n",
        "    file_name = \\\r\n",
        "      str(export_path_str) + now.strftime('%Y%m%d%H%M') + str(test_path_str).split(\"/\")[-1] + '.csv'\r\n",
        "    submit.to_csv(file_name, header=False, index=False)\r\n",
        "    "
      ],
      "execution_count": null,
      "outputs": []
    },
    {
      "cell_type": "code",
      "metadata": {
        "id": "16nVR25ES1mL",
        "colab": {
          "base_uri": "https://localhost:8080/",
          "height": 17
        },
        "outputId": "7ba7c138-3774-434c-a481-3055a74e0651"
      },
      "source": [
        "# submit csv of results\n",
        "generate_submit_from_learner(model_file, test_path_str=str(test))"
      ],
      "execution_count": null,
      "outputs": [
        {
          "output_type": "display_data",
          "data": {
            "text/html": [
              ""
            ],
            "text/plain": [
              "<IPython.core.display.HTML object>"
            ]
          },
          "metadata": {
            "tags": []
          }
        }
      ]
    }
  ]
}